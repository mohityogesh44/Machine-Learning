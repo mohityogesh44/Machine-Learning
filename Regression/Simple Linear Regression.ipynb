{
 "cells": [
  {
   "cell_type": "markdown",
   "metadata": {},
   "source": [
    "# Importing the Basic Libraries\n",
    "If you are a beginner in Machine Learning, just remember this part as necessity. Import these basic three libraries as stated.\n",
    "\n",
    "-->Pandas -->Used for handling our dataset(csv files in our case).\n",
    "-->Numpy -->Numerical Computation Library. Comes in handy for a lot of tasks.\n",
    "-->Matplotlib -->Python package for data visualization(You can use Seaborn too)."
   ]
  },
  {
   "cell_type": "code",
   "execution_count": null,
   "metadata": {},
   "outputs": [],
   "source": [
    "import numpy as np\n",
    "import pandas as pd\n",
    "import matplotlib.pyplot as plt"
   ]
  },
  {
   "cell_type": "markdown",
   "metadata": {},
   "source": [
    "# Import the dataset\n",
    "The dataset file will be provided. In my case, I have my csv file and this jupyter notebook in the same folder."
   ]
  },
  {
   "cell_type": "code",
   "execution_count": null,
   "metadata": {},
   "outputs": [],
   "source": [
    "data = pd.read_csv('Salary_Data.csv')"
   ]
  },
  {
   "cell_type": "markdown",
   "metadata": {},
   "source": [
    "## Have a first glance at your data"
   ]
  },
  {
   "cell_type": "code",
   "execution_count": null,
   "metadata": {},
   "outputs": [],
   "source": [
    "data.head()"
   ]
  },
  {
   "cell_type": "markdown",
   "metadata": {},
   "source": [
    "## Extract the independent variables(x) and the dependent(target) variable(y)\n",
    "\n",
    "One thing to note that \".values\" turns x and y in numpy arrays."
   ]
  },
  {
   "cell_type": "code",
   "execution_count": null,
   "metadata": {},
   "outputs": [],
   "source": [
    "x = data.iloc[:,:-1].values\n",
    "y = data.iloc[:,1].values"
   ]
  },
  {
   "cell_type": "markdown",
   "metadata": {},
   "source": [
    "## Split the data in Train and Test Set\n",
    "\n",
    "For the sake of simplicity, the data provided is already preprocessed and exploratory data analysis has been skipped for now.\n",
    "\n",
    "--> sklearn.model_selection has a very useful method for train and test split.\n",
    "\n",
    "-->Refer to the docs or online blogs for detailed info."
   ]
  },
  {
   "cell_type": "code",
   "execution_count": null,
   "metadata": {},
   "outputs": [],
   "source": [
    "from sklearn.model_selection import train_test_split\n",
    "\n",
    "x_train , x_test, y_train, y_test = train_test_split(x,y,test_size = 1/3, random_state = 0)"
   ]
  },
  {
   "cell_type": "markdown",
   "metadata": {},
   "source": [
    "## Import the model\n",
    "--> LinearRegression resides in sklearn.linear_model\n",
    "\n",
    "-->After importing the LinearRegression class, we call its constructor."
   ]
  },
  {
   "cell_type": "code",
   "execution_count": null,
   "metadata": {},
   "outputs": [],
   "source": [
    "from sklearn.linear_model import LinearRegression\n",
    "trainer = LinearRegression()"
   ]
  },
  {
   "cell_type": "markdown",
   "metadata": {},
   "source": [
    "## Fit the model on training data so that it can learn.\n",
    "-->trainer variable has LinearRegression() initialized.\n",
    "\n",
    "-->To train a model, we just have to call a built-in method \"fit\"."
   ]
  },
  {
   "cell_type": "code",
   "execution_count": null,
   "metadata": {},
   "outputs": [],
   "source": [
    "student = trainer.fit(x_train,y_train)"
   ]
  },
  {
   "cell_type": "markdown",
   "metadata": {},
   "source": [
    "## Time to predict\n",
    "Since our model has trained on training data, it's now time to test.\n",
    "\n",
    "To test our model means to predict the outputs of test data as it is unseen by model.\n",
    "\n",
    "For this purpose, we just call \"predict\" method."
   ]
  },
  {
   "cell_type": "code",
   "execution_count": null,
   "metadata": {},
   "outputs": [],
   "source": [
    "y_pred = trainer.predict(x_test)"
   ]
  },
  {
   "cell_type": "markdown",
   "metadata": {},
   "source": [
    "## Evaluation\n",
    "After prediction, we got to have a method to evaluate the model performance.\n",
    "\n",
    "Generally, in case of LinearRegression, the evaluation metric used is \"Mean Squared Error\" and our goal is to minimize it."
   ]
  },
  {
   "cell_type": "code",
   "execution_count": null,
   "metadata": {},
   "outputs": [],
   "source": [
    "from sklearn.metrics import mean_squared_error\n",
    "error = mean_squared_error(y_test,y_pred)"
   ]
  },
  {
   "cell_type": "markdown",
   "metadata": {},
   "source": [
    "## Let's just have some graphs too.\n",
    "Now, we will visualize some stuff"
   ]
  },
  {
   "cell_type": "code",
   "execution_count": null,
   "metadata": {},
   "outputs": [],
   "source": [
    "plt.scatter(x_train, y_train, color = 'red')\n",
    "plt.plot(x_train,trainer.predict(x_train), color = 'blue')\n",
    "plt.xlabel('Years of Experience')\n",
    "plt.ylabel(\"Salary in k's\")\n",
    "plt.title('Salary vs Experience (Train Set)')\n",
    "plt.show()"
   ]
  },
  {
   "cell_type": "code",
   "execution_count": null,
   "metadata": {},
   "outputs": [],
   "source": [
    "plt.scatter(x_test, y_test, color = 'red')\n",
    "plt.plot(x_train,trainer.predict(x_train), color = 'blue')\n",
    "plt.xlabel('Years of Experience')\n",
    "plt.ylabel(\"Salary in k's\")\n",
    "plt.title('Salary vs Experience (Test Set)')\n",
    "plt.show()"
   ]
  }
 ],
 "metadata": {
  "kernelspec": {
   "display_name": "Python 3",
   "language": "python",
   "name": "python3"
  },
  "language_info": {
   "codemirror_mode": {
    "name": "ipython",
    "version": 3
   },
   "file_extension": ".py",
   "mimetype": "text/x-python",
   "name": "python",
   "nbconvert_exporter": "python",
   "pygments_lexer": "ipython3",
   "version": "3.7.9"
  }
 },
 "nbformat": 4,
 "nbformat_minor": 4
}
