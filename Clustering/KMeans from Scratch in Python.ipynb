{
 "cells": [
  {
   "cell_type": "code",
   "execution_count": 1,
   "metadata": {},
   "outputs": [],
   "source": [
    "import numpy as np\n",
    "from numpy.linalg import norm"
   ]
  },
  {
   "cell_type": "code",
   "execution_count": 2,
   "metadata": {},
   "outputs": [],
   "source": [
    "class KMeans:\n",
    "    '''KMeans Clustering Algorithm'''\n",
    "    \n",
    "    def __init__(self, n_clusters, max_iter = 100, random_state = 42):\n",
    "        self.n_clusters = n_clusters\n",
    "        self.max_iter = max_iter\n",
    "        self.random_state = random_state\n",
    "        \n",
    "    def initialize_centroids(self, x):\n",
    "        np.random.RandomState(self.random_state)\n",
    "        random_idx = np.random.permutation(X.shape[0])\n",
    "        centroids = X[random_idx[:self.n_clusters]]\n",
    "        \n",
    "        return centroids\n",
    "    \n",
    "    def compute_centroids(self, x, labels):\n",
    "        centroids = np.zeros((self.n_clusters, x.shape[1]))\n",
    "        for k in range(self.n_clusters):\n",
    "            centroids[k, :] = np.mean(x[labels == k, :], axis = 0)\n",
    "        \n",
    "        return centroids\n",
    "    \n",
    "    def compute_distance(self, x, centroids):\n",
    "        distance = np.zeros((x.shape[0], self.n_clusters))\n",
    "        for k in range(self.n_clusters):\n",
    "            row_norm = norm(x - centroids[k, :], axis = 1)\n",
    "            distance[:, k] = np.square(row_norm)\n",
    "        \n",
    "        return distance\n",
    "    \n",
    "    def find_closest_cluster(self, distance):\n",
    "        \n",
    "        return np.argmin(distance, axis = 1)\n",
    "    \n",
    "    def compute_sse(self, x, labels, centroids):\n",
    "        distance = np.zeros(x.shape[0])\n",
    "        for k in range(self.n_clusters):\n",
    "            distance[labels == k] = norm(x[labels == k] - centroid[k], axis = 1)\n",
    "        \n",
    "        return np.sm(np.square(distance))\n",
    "    \n",
    "    def fit(self, x):\n",
    "        self.centroids = self.initialize_centroids(x)\n",
    "        for i in range(self.max_iter):\n",
    "            old_centroids = self.centroids\n",
    "            distance = self.compute_distance(x, old_centroids)\n",
    "            self.labels = self.find_closest_cluster(distance)\n",
    "            self.centroids = self.compute_centroids(x, self.labels)\n",
    "            if np.all(old_centroids == self.centroids):\n",
    "                break\n",
    "        self.error = self.compute_sse(x, self.labels, self.centroids)\n",
    "        \n",
    "    def predict(self, x):\n",
    "        distance = self.compute_distance(x, old_centroids)\n",
    "        return self.find_closest_cluster(distance)"
   ]
  }
 ],
 "metadata": {
  "kernelspec": {
   "display_name": "Python 3",
   "language": "python",
   "name": "python3"
  },
  "language_info": {
   "codemirror_mode": {
    "name": "ipython",
    "version": 3
   },
   "file_extension": ".py",
   "mimetype": "text/x-python",
   "name": "python",
   "nbconvert_exporter": "python",
   "pygments_lexer": "ipython3",
   "version": "3.7.9"
  }
 },
 "nbformat": 4,
 "nbformat_minor": 4
}
