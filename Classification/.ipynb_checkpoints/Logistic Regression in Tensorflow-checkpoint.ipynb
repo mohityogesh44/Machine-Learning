{
 "cells": [
  {
   "cell_type": "markdown",
   "metadata": {
    "id": "EMI0K-04JdC2"
   },
   "source": [
    "### Logistic Regression algorithm from scratch in Tensorflow 2.0"
   ]
  },
  {
   "cell_type": "code",
   "execution_count": 1,
   "metadata": {
    "id": "Fw9GdK4yJdDB"
   },
   "outputs": [],
   "source": [
    "import tensorflow as tf\n",
    "import numpy as np"
   ]
  },
  {
   "cell_type": "markdown",
   "metadata": {
    "id": "gapAp0N5JdDD"
   },
   "source": [
    "#### We will be using the MNIST handwritten digits dataset that comes with tensorflow."
   ]
  },
  {
   "cell_type": "code",
   "execution_count": 2,
   "metadata": {
    "colab": {
     "base_uri": "https://localhost:8080/"
    },
    "id": "woZA731KJdDD",
    "outputId": "d5974d4c-73cd-498d-b905-414a0db5bff1"
   },
   "outputs": [
    {
     "name": "stdout",
     "output_type": "stream",
     "text": [
      "Downloading data from https://storage.googleapis.com/tensorflow/tf-keras-datasets/mnist.npz\n",
      "11493376/11490434 [==============================] - 0s 0us/step\n"
     ]
    }
   ],
   "source": [
    "#Import the dataset\n",
    "from tensorflow.keras.datasets import mnist\n",
    "\n",
    "(x_train, y_train), (x_test, y_test) = mnist.load_data()"
   ]
  },
  {
   "cell_type": "code",
   "execution_count": 3,
   "metadata": {
    "colab": {
     "base_uri": "https://localhost:8080/"
    },
    "id": "pkuWQ7tEJdDE",
    "outputId": "eaa4b640-f1f9-424e-c62c-e4c38946e769"
   },
   "outputs": [
    {
     "name": "stdout",
     "output_type": "stream",
     "text": [
      "uint8\n",
      "uint8\n"
     ]
    }
   ],
   "source": [
    "print(x_train.dtype)\n",
    "print(x_test.dtype)"
   ]
  },
  {
   "cell_type": "code",
   "execution_count": 4,
   "metadata": {
    "id": "B0cGa4SEJdDG"
   },
   "outputs": [],
   "source": [
    "#Convert the float32.\n",
    "x_train, x_test = np.array(x_train, np.float32), np.array(x_test, np.float32)"
   ]
  },
  {
   "cell_type": "code",
   "execution_count": 5,
   "metadata": {
    "colab": {
     "base_uri": "https://localhost:8080/"
    },
    "id": "FeBf-K3AJdDH",
    "outputId": "bbac0467-b696-41ee-8a32-710fdb3a22a7"
   },
   "outputs": [
    {
     "name": "stdout",
     "output_type": "stream",
     "text": [
      "float32\n",
      "float32\n"
     ]
    }
   ],
   "source": [
    "print(x_train.dtype)\n",
    "print(x_test.dtype)"
   ]
  },
  {
   "cell_type": "code",
   "execution_count": 6,
   "metadata": {
    "colab": {
     "base_uri": "https://localhost:8080/"
    },
    "id": "fjTE_QdRJdDH",
    "outputId": "61800cad-1098-4939-b7b8-1fd2653f55a4"
   },
   "outputs": [
    {
     "name": "stdout",
     "output_type": "stream",
     "text": [
      "(60000, 28, 28)\n",
      "(10000, 28, 28)\n"
     ]
    }
   ],
   "source": [
    "print(x_train.shape)\n",
    "print(x_test.shape)"
   ]
  },
  {
   "cell_type": "code",
   "execution_count": 7,
   "metadata": {
    "id": "X_4MmjMpJdDI"
   },
   "outputs": [],
   "source": [
    "#Flatten the images to 1-D vecotr of 28*28 i.e. 784 features.\n",
    "num_features = 28*28\n",
    "x_train, x_test = x_train.reshape([-1, num_features]), x_test.reshape([-1, num_features])"
   ]
  },
  {
   "cell_type": "code",
   "execution_count": 8,
   "metadata": {
    "colab": {
     "base_uri": "https://localhost:8080/"
    },
    "id": "LLLGWBqoJdDJ",
    "outputId": "d0e633a6-6158-4785-e072-b36610ba6fe3"
   },
   "outputs": [
    {
     "name": "stdout",
     "output_type": "stream",
     "text": [
      "(60000, 784)\n",
      "(10000, 784)\n"
     ]
    }
   ],
   "source": [
    "print(x_train.shape)\n",
    "print(x_test.shape)"
   ]
  },
  {
   "cell_type": "code",
   "execution_count": 9,
   "metadata": {
    "id": "u4bZWfM3JdDJ"
   },
   "outputs": [],
   "source": [
    "#Normalize the values from 0-255 to 0-1.\n",
    "x_train, x_test = x_train/255., x_test/255."
   ]
  },
  {
   "cell_type": "code",
   "execution_count": 10,
   "metadata": {
    "id": "RwlndnWHJdDK"
   },
   "outputs": [],
   "source": [
    "#0-9 digits\n",
    "num_classes = 10\n",
    "\n",
    "#Parameters\n",
    "learning_rate = 0.01\n",
    "\n",
    "training_steps = 1000\n",
    "\n",
    "batch_size = 256\n",
    "\n",
    "display_step = 50"
   ]
  },
  {
   "cell_type": "code",
   "execution_count": 11,
   "metadata": {
    "id": "wJrufDWXJdDK"
   },
   "outputs": [],
   "source": [
    "#Shuffle and batch the data\n",
    "\n",
    "train_data = tf.data.Dataset.from_tensor_slices((x_train, y_train))\n",
    "\n",
    "train_data = train_data.repeat().shuffle(5000).batch(batch_size).prefetch(1)"
   ]
  },
  {
   "cell_type": "code",
   "execution_count": 12,
   "metadata": {
    "id": "T02UnAKOJdDL"
   },
   "outputs": [],
   "source": [
    "#Initialize weights and biases.\n",
    "\n",
    "#We have 784 features and 10 classes. So the Weight vector will be of dimension (784,10).\n",
    "W = tf.Variable(tf.ones([num_features, num_classes]), name = \"weight\")\n",
    "\n",
    "#Bias will have a shape of 10, the total number of classes.\n",
    "b = tf.Variable(tf.zeros([num_classes]), name = 'bias')"
   ]
  },
  {
   "cell_type": "markdown",
   "metadata": {
    "id": "NeSqPvf4J9MS"
   },
   "source": [
    "#### Define the Logistic Regression and Cost Function\n",
    "[Link to understand Cross-Entropy](https://machinelearningmastery.com/cross-entropy-for-machine-learning/)"
   ]
  },
  {
   "cell_type": "code",
   "execution_count": 13,
   "metadata": {
    "id": "P2MU2IkWJ66x"
   },
   "outputs": [],
   "source": [
    "#Logistic Regression (Wx + b)\n",
    "#Since this is a multiclass classification we are using softmax instead of sigmoid.\n",
    "#And if you are wondering what is softmax doing and where are those fancy exponents then, have a read on Softmax Regression.\n",
    "\n",
    "def logistic_regression(x):\n",
    "  return tf.nn.softmax(tf.matmul(x, W) + b)\n",
    "\n",
    "#Cross-Entropy Loss function.\n",
    "def cross_entropy(y_pred, y_true):\n",
    "  #One-hot encoding\n",
    "  y_true = tf.one_hot(y_true, depth = num_classes)\n",
    "\n",
    "  #Clip prediction values to avoid log(0) error.\n",
    "  y_pred = tf.clip_by_value(y_pred, 1e-9, 1.)\n",
    "\n",
    "  return tf.reduce_mean(-tf.reduce_sum(y_true * tf.math.log(y_pred)))"
   ]
  },
  {
   "cell_type": "markdown",
   "metadata": {
    "id": "o6QeAaEWOL2f"
   },
   "source": [
    "#### Define Optimizers and Accuracy Metrics"
   ]
  },
  {
   "cell_type": "code",
   "execution_count": 17,
   "metadata": {
    "id": "-GnXDo5cJ69R"
   },
   "outputs": [],
   "source": [
    "def accuracy(y_pred, y_true):\n",
    "  #Predicted class is the index of highest score in prediction vector i.e. argmax.\n",
    "  correct_pred = tf.equal(tf.argmax(y_pred, 1), tf.cast(y_true, tf.int64))\n",
    "\n",
    "  return tf.reduce_mean(tf.cast(correct_pred, tf.float32))\n",
    "\n",
    "#Optimizer\n",
    "optimizer = tf.optimizers.Adam(learning_rate=learning_rate)"
   ]
  },
  {
   "cell_type": "code",
   "execution_count": 15,
   "metadata": {
    "id": "Tbf55trDJ6_c"
   },
   "outputs": [],
   "source": [
    "#Calculate gradients and update weights and biases.\n",
    "\n",
    "def optimize(x, y):\n",
    "\n",
    "  with tf.GradientTape() as tape:\n",
    "    #Prediction\n",
    "    y_pred = logistic_regression(x)\n",
    "    #Calculate loss\n",
    "    loss = cross_entropy(y_pred, y)\n",
    "  \n",
    "  #Compute Gradients\n",
    "  gradients = tape.gradient(loss, [W, b])\n",
    "\n",
    "  #Update W and b.\n",
    "  optimizer.apply_gradients(zip(gradients, [W, b]))"
   ]
  },
  {
   "cell_type": "code",
   "execution_count": 18,
   "metadata": {
    "colab": {
     "base_uri": "https://localhost:8080/"
    },
    "id": "rtGe-aCOJ7BO",
    "outputId": "555bb207-608f-4567-cfb2-f536e42ab9d5"
   },
   "outputs": [
    {
     "name": "stdout",
     "output_type": "stream",
     "text": [
      "Step: 50, loss: 93.64014434814453, accuracy: 0.88671875\n",
      "Step: 100, loss: 66.70635986328125, accuracy: 0.95703125\n",
      "Step: 150, loss: 92.08629608154297, accuracy: 0.90234375\n",
      "Step: 200, loss: 52.10447692871094, accuracy: 0.93359375\n",
      "Step: 250, loss: 86.71768188476562, accuracy: 0.89453125\n",
      "Step: 300, loss: 70.26834106445312, accuracy: 0.9296875\n",
      "Step: 350, loss: 79.16162872314453, accuracy: 0.91796875\n",
      "Step: 400, loss: 76.02119445800781, accuracy: 0.91796875\n",
      "Step: 450, loss: 57.410770416259766, accuracy: 0.94921875\n",
      "Step: 500, loss: 95.61672973632812, accuracy: 0.9296875\n",
      "Step: 550, loss: 59.11628723144531, accuracy: 0.92578125\n",
      "Step: 600, loss: 80.53221130371094, accuracy: 0.91015625\n",
      "Step: 650, loss: 81.55431365966797, accuracy: 0.91796875\n",
      "Step: 700, loss: 58.65564727783203, accuracy: 0.9453125\n",
      "Step: 750, loss: 102.43087768554688, accuracy: 0.9140625\n",
      "Step: 800, loss: 67.85317993164062, accuracy: 0.91015625\n",
      "Step: 850, loss: 71.95440673828125, accuracy: 0.91015625\n",
      "Step: 900, loss: 62.60881042480469, accuracy: 0.9375\n",
      "Step: 950, loss: 58.2719841003418, accuracy: 0.9140625\n",
      "Step: 1000, loss: 75.01040649414062, accuracy: 0.9296875\n"
     ]
    }
   ],
   "source": [
    "#The training loop\n",
    "\n",
    "for step, (batch_x, batch_y) in enumerate(train_data.take(training_steps), 1):\n",
    "\n",
    "  optimize(batch_x, batch_y)\n",
    "\n",
    "  if step % display_step == 0:\n",
    "    pred = logistic_regression(batch_x)\n",
    "    \n",
    "    loss = cross_entropy(pred, batch_y)\n",
    "\n",
    "    acc = accuracy(pred, batch_y)\n",
    "\n",
    "    print(\"Step: {}, loss: {}, accuracy: {}\".format(step, loss, acc))"
   ]
  }
 ],
 "metadata": {
  "colab": {
   "collapsed_sections": [],
   "name": "Logistic Regression.ipynb",
   "provenance": []
  },
  "kernelspec": {
   "display_name": "Python 3",
   "language": "python",
   "name": "python3"
  },
  "language_info": {
   "codemirror_mode": {
    "name": "ipython",
    "version": 3
   },
   "file_extension": ".py",
   "mimetype": "text/x-python",
   "name": "python",
   "nbconvert_exporter": "python",
   "pygments_lexer": "ipython3",
   "version": "3.7.9"
  }
 },
 "nbformat": 4,
 "nbformat_minor": 1
}
